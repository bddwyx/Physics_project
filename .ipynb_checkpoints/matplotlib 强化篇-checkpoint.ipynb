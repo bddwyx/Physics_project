{
 "cells": [
  {
   "cell_type": "markdown",
   "metadata": {},
   "source": [
    "## matplotlib 强化篇"
   ]
  },
  {
   "cell_type": "markdown",
   "metadata": {},
   "source": [
    "### 使用说明\n",
    "- notebook 中的文件路径需要替换为本地路径\n",
    "- notebook 中可能有本地环境未安装的库"
   ]
  },
  {
   "cell_type": "markdown",
   "metadata": {},
   "source": [
    "### 饼状图"
   ]
  },
  {
   "cell_type": "code",
   "execution_count": null,
   "metadata": {},
   "outputs": [],
   "source": [
    "# 【数据准备】\n",
    "# 影片类型对应的上座总人数\n",
    "data_dict = {'科幻片': 1222, '爱情片': 859, '动画片': 265}"
   ]
  },
  {
   "cell_type": "code",
   "execution_count": null,
   "metadata": {},
   "outputs": [],
   "source": [
    "import matplotlib.pyplot as plt\n",
    "\n",
    "# 设置绘图时的中文字体\n",
    "plt.rcParams['font.sans-serif'] = ['SimHei']\n",
    "plt.rcParams['axes.unicode_minus'] = False\n",
    "\n",
    "# 【练习1】\n",
    "# 绘制饼状图，并添加类别标签和显示数值\n",
    "\n",
    "# 请尽量回忆课程内容来完成哦"
   ]
  },
  {
   "cell_type": "code",
   "execution_count": null,
   "metadata": {},
   "outputs": [
    {
     "data": {
      "image/png": "https://staticcdn.boyuai.com/public/result/8248/2020/12/05/d1u9UkodkbprWfAZRMKdy.jpg",
      "text/plain": [
       "<Figure size 432x288 with 1 Axes>"
      ]
     },
     "metadata": {},
     "output_type": "display_data"
    }
   ],
   "source": [
    "# 请在 ____ 处完成代码\n",
    "\n",
    "# 创建画板\n",
    "fig = plt.figure()\n",
    "# 创建画纸\n",
    "ax = fig.add_axes([0, 0, 1, 1])\n",
    "\n",
    "# ---------------------------------------------\n",
    "\n",
    "# 绘制饼状图，以数据字典的‘值’作为数值\n",
    "# 添加类别标签，以数据字典的‘键’作为字符串\n",
    "# 显示数值（格式为显示2位小数的百分比）\n",
    "ax.pie(data_dict.values(), labels = data_dict.keys(), autopct = '%.2f%%')\n",
    "\n",
    "# ---------------------------------------------\n",
    "\n",
    "# 设置标题和图例\n",
    "ax.set_title('影片上座占比', fontsize=20)\n",
    "ax.legend(loc='upper right')\n",
    "\n",
    "plt.show()"
   ]
  },
  {
   "cell_type": "code",
   "execution_count": null,
   "metadata": {},
   "outputs": [
    {
     "name": "stdout",
     "output_type": "stream",
     "text": [
      "#plt#\n"
     ]
    }
   ],
   "source": [
    "print('#plt#')"
   ]
  },
  {
   "cell_type": "markdown",
   "metadata": {},
   "source": [
    "### 条形图"
   ]
  },
  {
   "cell_type": "code",
   "execution_count": null,
   "metadata": {},
   "outputs": [],
   "source": [
    "# 【数据准备】\n",
    "# 影片类型对应的上座总人数\n",
    "data_dict = {'科幻片': 1429, '爱情片': 1174, '动画片': 917}"
   ]
  },
  {
   "cell_type": "code",
   "execution_count": null,
   "metadata": {},
   "outputs": [],
   "source": [
    "import matplotlib.pyplot as plt\n",
    "\n",
    "# 设置绘图时的中文字体\n",
    "plt.rcParams['font.sans-serif'] = ['SimHei']\n",
    "plt.rcParams['axes.unicode_minus'] = False\n",
    "\n",
    "# 【练习2】\n",
    "# 绘制条形图，并为条形图添加类标标签（作为 x 轴刻度标签添加）\n",
    "\n",
    "# 请尽量回忆课程内容来完成哦"
   ]
  },
  {
   "cell_type": "code",
   "execution_count": null,
   "metadata": {},
   "outputs": [
    {
     "data": {
      "image/png": "https://staticcdn.boyuai.com/public/result/8248/2020/12/05/O_F8lYVmEmH9LctYnmjlq.jpg",
      "text/plain": [
       "<Figure size 432x288 with 1 Axes>"
      ]
     },
     "metadata": {
      "needs_background": "light"
     },
     "output_type": "display_data"
    }
   ],
   "source": [
    "# 请在 ____ 处完成代码\n",
    "\n",
    "# 创建画板\n",
    "fig = plt.figure()\n",
    "# 创建画纸\n",
    "ax = fig.add_axes([0, 0, 1, 1])\n",
    "\n",
    "# ---------------------------------------------\n",
    "\n",
    "# 生成条形位置，赋值给变量 x（可以利用函数 range()）\n",
    "x = range(len(data_dict))\n",
    "# 绘制条形图，以上座人数作为条形高度，并设置条形宽度为 0.8\n",
    "ax.bar(x, data_dict.values(), width = 0.8)\n",
    "\n",
    "# 设置 x 轴刻度与条形位置一致\n",
    "ax.set_xticks(x)\n",
    "# 设置 x 轴刻度标签与影片类型一致\n",
    "ax.set_xticklabels(data_dict.keys())\n",
    "\n",
    "# ---------------------------------------------\n",
    "\n",
    "# 设置标题和 x 轴标签\n",
    "ax.set_title('影院各类影片平均上座人数', fontsize=20)\n",
    "ax.set_xlabel('影片类别', fontsize=12)\n",
    "\n",
    "# 展示绘图结果\n",
    "plt.show()"
   ]
  },
  {
   "cell_type": "code",
   "execution_count": null,
   "metadata": {},
   "outputs": [
    {
     "name": "stdout",
     "output_type": "stream",
     "text": [
      "#plt#\n"
     ]
    }
   ],
   "source": [
    "print('#plt#')"
   ]
  },
  {
   "cell_type": "markdown",
   "metadata": {},
   "source": [
    "### 条形图：簇状条形图"
   ]
  },
  {
   "cell_type": "code",
   "execution_count": null,
   "metadata": {},
   "outputs": [],
   "source": [
    "# 【数据准备】\n",
    "# 影片类型对应的上座总人数\n",
    "# 东方电影院数据\n",
    "data_dict_1 = {'科幻片': 1429, '爱情片': 1174, '动画片': 917}\n",
    "\n",
    "# 和平电影院数据\n",
    "data_dict_2 = {'科幻片': 1222, '爱情片': 859, '动画片': 265}"
   ]
  },
  {
   "cell_type": "code",
   "execution_count": null,
   "metadata": {},
   "outputs": [],
   "source": [
    "import matplotlib.pyplot as plt\n",
    "\n",
    "# 设置绘图时的中文字体\n",
    "plt.rcParams['font.sans-serif'] = ['SimHei']\n",
    "plt.rcParams['axes.unicode_minus'] = False\n",
    "\n",
    "# 【练习3】\n",
    "# 绘制簇状条形图，并设置图例\n",
    "\n",
    "# 请尽量回忆课程内容来完成哦"
   ]
  },
  {
   "cell_type": "code",
   "execution_count": null,
   "metadata": {},
   "outputs": [
    {
     "data": {
      "image/png": "https://staticcdn.boyuai.com/public/result/8248/2020/12/05/de874xewd-RfyEFdHCmhj.jpg",
      "text/plain": [
       "<Figure size 432x288 with 1 Axes>"
      ]
     },
     "metadata": {
      "needs_background": "light"
     },
     "output_type": "display_data"
    }
   ],
   "source": [
    "# 请在 ____ 处完成代码\n",
    "\n",
    "# 创建画板\n",
    "fig = plt.figure()\n",
    "# 创建画纸\n",
    "ax = fig.add_axes([0, 0, 1, 1])\n",
    "\n",
    "# ---------------------------------------------\n",
    "\n",
    "# 设置条形宽度\n",
    "width = 0.4\n",
    "\n",
    "x_1 = []\n",
    "x_2 = []\n",
    "# 用 for 循环计算两组条形的位置，分别赋值给 x_1 和 x_2\n",
    "for i in range(len(data_dict_1)):\n",
    "    x_1.append(i - 0.5 * width) # i 位置减去一半条形宽度\n",
    "for i in range(len(data_dict_2)):\n",
    "    x_2.append(i + 0.5 * width) # i 位置加上一半条形宽度\n",
    "\n",
    "# 分别绘制两组条形图，组成簇状条形图\n",
    "# 并且分别设置数据标签为 '东方电影院'、'和平电影院'\n",
    "ax.bar(x_1, data_dict_1.values(), width, label = '东方电影院')\n",
    "ax.bar(x_2, data_dict_2.values(), width, label = '和平电影院')\n",
    "\n",
    "# 设置图例\n",
    "ax.legend()\n",
    "\n",
    "# ---------------------------------------------\n",
    "\n",
    "# 设置 x 轴刻度标签\n",
    "x = range(len(data_dict))\n",
    "ax.set_xticks(x)\n",
    "ax.set_xticklabels(data_dict_1.keys())\n",
    "\n",
    "# 设置 x、y 轴标签\n",
    "ax.set_xlabel('影片类别', fontsize=12)\n",
    "ax.set_ylabel('平均上座（人）', fontsize=12)\n",
    "\n",
    "# 设置标题\n",
    "ax.set_title('两影院各类影片平均上座人数', fontsize=20)\n",
    "\n",
    "# 展示绘图结果\n",
    "plt.show()"
   ]
  },
  {
   "cell_type": "code",
   "execution_count": null,
   "metadata": {},
   "outputs": [
    {
     "name": "stdout",
     "output_type": "stream",
     "text": [
      "#plt#\n"
     ]
    }
   ],
   "source": [
    "print('#plt#')"
   ]
  },
  {
   "cell_type": "markdown",
   "metadata": {},
   "source": [
    "### 散点图"
   ]
  },
  {
   "cell_type": "code",
   "execution_count": null,
   "metadata": {},
   "outputs": [],
   "source": [
    "# 【数据准备】\n",
    "# 电影院数据集\n",
    "data_dict = {\n",
    "    '科幻片': {\n",
    "        '平均票价': [46, 46, 52, 49, 34, 45, 44, 44, 47, 46, 40, 52, 38, 38, 40, 51, 51, 42, 44, 38, 50, 38], \n",
    "        '平均上座': [64, 69, 63, 63, 57, 67, 65, 67, 62, 77, 77, 67, 64, 61, 60, 67, 73, 63, 58, 49, 72, 64]\n",
    "        }, \n",
    "    '爱情片': {\n",
    "        '平均票价': [28, 26, 28, 33, 32, 26, 29, 25, 30, 30, 32, 29, 31, 35, 31, 30, 33, 28, 28, 27], \n",
    "        '平均上座': [55, 55, 51, 61, 61, 55, 60, 60, 65, 57, 56, 52, 68, 59, 60, 58, 67, 56, 63, 55]\n",
    "        }, \n",
    "    '动画片': {\n",
    "        '平均票价': [31, 31, 39, 33, 41, 45, 43, 41, 41, 29, 37, 31, 42, 31, 38, 39, 39, 36], \n",
    "        '平均上座': [54, 50, 50, 50, 51, 52, 54, 57, 46, 48, 57, 47, 50, 48, 53, 51, 50, 49]\n",
    "        }\n",
    "}"
   ]
  },
  {
   "cell_type": "code",
   "execution_count": null,
   "metadata": {},
   "outputs": [],
   "source": [
    "import matplotlib.pyplot as plt\n",
    "\n",
    "# 设置绘图时的中文字体\n",
    "plt.rcParams['font.sans-serif'] = ['SimHei']\n",
    "plt.rcParams['axes.unicode_minus'] = False\n",
    "\n",
    "# 【练习1】\n",
    "# 绘制散点图\n",
    "\n",
    "# 请尽量回忆课程内容来完成哦"
   ]
  },
  {
   "cell_type": "code",
   "execution_count": null,
   "metadata": {},
   "outputs": [],
   "source": [
    "# 请在 ____ 处完成代码\n",
    "\n",
    "# 创建画板\n",
    "fig = plt.figure()\n",
    "# 创建画纸\n",
    "ax = fig.add_axes([0, 0, 1, 1])\n",
    "\n",
    "# ---------------------------------------------\n",
    "\n",
    "# 绘制 '爱情片' 中 '平均票价' 和 '平均上座' 对应的散点图\n",
    "ax.____\n",
    "\n",
    "# ---------------------------------------------\n",
    "\n",
    "# 设置标题、坐标轴标签、网格\n",
    "ax.set_title('平均票价与平均上座分布', fontsize=20)\n",
    "ax.set_xlabel('平均票价（元）')\n",
    "ax.set_ylabel('平均上座（人）')\n",
    "ax.grid(axis='both')\n",
    "\n",
    "# 展示绘图结果\n",
    "plt.show()"
   ]
  },
  {
   "cell_type": "code",
   "execution_count": null,
   "metadata": {},
   "outputs": [],
   "source": [
    "print('#plt#')"
   ]
  },
  {
   "cell_type": "markdown",
   "metadata": {},
   "source": [
    "### 散点图：多组散点图"
   ]
  },
  {
   "cell_type": "code",
   "execution_count": null,
   "metadata": {},
   "outputs": [],
   "source": [
    "# 【数据准备】\n",
    "# 电影院数据集\n",
    "data_dict = {\n",
    "    '科幻片': {\n",
    "        '平均票价': [46, 46, 52, 49, 34, 45, 44, 44, 47, 46, 40, 52, 38, 38, 40, 51, 51, 42, 44, 38, 50, 38], \n",
    "        '平均上座': [64, 69, 63, 63, 57, 67, 65, 67, 62, 77, 77, 67, 64, 61, 60, 67, 73, 63, 58, 49, 72, 64]\n",
    "        }, \n",
    "    '爱情片': {\n",
    "        '平均票价': [28, 26, 28, 33, 32, 26, 29, 25, 30, 30, 32, 29, 31, 35, 31, 30, 33, 28, 28, 27], \n",
    "        '平均上座': [55, 55, 51, 61, 61, 55, 60, 60, 65, 57, 56, 52, 68, 59, 60, 58, 67, 56, 63, 55]\n",
    "        }, \n",
    "    '动画片': {\n",
    "        '平均票价': [31, 31, 39, 33, 41, 45, 43, 41, 41, 29, 37, 31, 42, 31, 38, 39, 39, 36], \n",
    "        '平均上座': [54, 50, 50, 50, 51, 52, 54, 57, 46, 48, 57, 47, 50, 48, 53, 51, 50, 49]\n",
    "        }\n",
    "}\n",
    "\n",
    "# 设置数据形状\n",
    "# '科幻片'：'v'\n",
    "# '爱情片'：'*'\n",
    "# '动画片'：'o'\n",
    "marker_dict = {'科幻片': 'v', '爱情片': '*', '动画片': 'o'}"
   ]
  },
  {
   "cell_type": "code",
   "execution_count": null,
   "metadata": {},
   "outputs": [],
   "source": [
    "import matplotlib.pyplot as plt\n",
    "\n",
    "# 设置绘图时的中文字体\n",
    "plt.rcParams['font.sans-serif'] = ['SimHei']\n",
    "plt.rcParams['axes.unicode_minus'] = False\n",
    "\n",
    "# 【练习2】\n",
    "# 沿用上一步骤的数据\n",
    "# 绘制多组散点图\n",
    "\n",
    "# 请尽量回忆课程内容来完成哦"
   ]
  },
  {
   "cell_type": "code",
   "execution_count": null,
   "metadata": {},
   "outputs": [],
   "source": [
    "# 请在 ____ 处完成代码\n",
    "\n",
    "# 创建画板\n",
    "fig = plt.figure()\n",
    "# 创建画纸\n",
    "ax = fig.add_axes([0, 0, 1, 1])\n",
    "\n",
    "# ---------------------------------------------\n",
    "\n",
    "# 用 for 循环绘制多组散点图\n",
    "# 使用准备好的数据形状\n",
    "# 设置数据的标签\n",
    "# 提示：category 为数据字典的'键'，feature 为数据字典的'值'\n",
    "for category, feature in data_dict.items():\n",
    "    ax.scatter(____,        # 获取'平均票价'列表作为 x 轴坐标 \n",
    "               ____,        # 获取'平均上座'列表作为 y 轴坐标\n",
    "               marker=____, # 从准备好的 marker_dict 设置数据形状\n",
    "               label=____   # 设置数据标签\n",
    "              )\n",
    "\n",
    "# 设置图例\n",
    "ax.____\n",
    "\n",
    "# ---------------------------------------------\n",
    "\n",
    "# 设置标题、坐标轴标签、网格\n",
    "ax.set_title('三类影片平均票价与平均上座分布', fontsize=20)\n",
    "ax.set_xlabel('平均票价（元）')\n",
    "ax.set_ylabel('平均上座（人）')\n",
    "ax.grid(axis='both')\n",
    "\n",
    "# 展示绘图结果\n",
    "plt.show()"
   ]
  },
  {
   "cell_type": "code",
   "execution_count": null,
   "metadata": {},
   "outputs": [],
   "source": [
    "print('#plt#')"
   ]
  },
  {
   "cell_type": "markdown",
   "metadata": {},
   "source": [
    "### 散点图：子图绘制与比较"
   ]
  },
  {
   "cell_type": "code",
   "execution_count": null,
   "metadata": {},
   "outputs": [],
   "source": [
    "# 【数据准备】\n",
    "# 东方电影院数据集\n",
    "data_dict_1 = {\n",
    "    '科幻片': {\n",
    "        '平均票价': [46, 46, 52, 49, 34, 45, 44, 44, 47, 46, 40, 52, 38, 38, 40, 51, 51, 42, 44, 38, 50, 38], \n",
    "        '平均上座': [64, 69, 63, 63, 57, 67, 65, 67, 62, 77, 77, 67, 64, 61, 60, 67, 73, 63, 58, 49, 72, 64]\n",
    "        }, \n",
    "    '爱情片': {\n",
    "        '平均票价': [28, 26, 28, 33, 32, 26, 29, 25, 30, 30, 32, 29, 31, 35, 31, 30, 33, 28, 28, 27], \n",
    "        '平均上座': [55, 55, 51, 61, 61, 55, 60, 60, 65, 57, 56, 52, 68, 59, 60, 58, 67, 56, 63, 55]\n",
    "        }, \n",
    "    '动画片': {\n",
    "        '平均票价': [31, 31, 39, 33, 41, 45, 43, 41, 41, 29, 37, 31, 42, 31, 38, 39, 39, 36], \n",
    "        '平均上座': [54, 50, 50, 50, 51, 52, 54, 57, 46, 48, 57, 47, 50, 48, 53, 51, 50, 49]\n",
    "        }\n",
    "}\n",
    "\n",
    "# 和平电影院数据集\n",
    "data_dict_2 = {\n",
    "    '科幻片': {\n",
    "        '平均票价': [31, 32, 33, 27, 25, 30, 30, 25, 28, 26, 28, 33, 27, 26, 22, 31, 29, 28, 27, 25, 36, 28], \n",
    "        '平均上座': [55, 57, 60, 49, 50, 52, 58, 58, 48, 69, 67, 57, 53, 56, 50, 56, 63, 51, 51, 45, 61, 56]\n",
    "        }, \n",
    "    '爱情片': {\n",
    "        '平均票价': [26, 23, 25, 30, 29, 24, 27, 22, 28, 28, 30, 27, 28, 32, 29, 27, 31, 25, 25, 24], \n",
    "        '平均上座': [44, 40, 30, 46, 47, 37, 51, 40, 46, 45, 41, 39, 48, 48, 45, 39, 47, 39, 49, 38]\n",
    "        }, \n",
    "    '动画片': {\n",
    "        '平均票价': [34, 33, 34, 35, 38, 41, 39, 44, 32, 30, 38, 32, 36, 30, 37, 33, 32, 30], \n",
    "        '平均上座': [17, 14, 16, 16, 15, 15, 13, 15, 14, 14, 17, 13, 14, 14, 15, 17, 12, 14]\n",
    "        }\n",
    "}\n",
    "\n",
    "# 设置数据形状\n",
    "# '科幻片'：'v'\n",
    "# '爱情片'：'*'\n",
    "# '动画片'：'o'\n",
    "marker_dict = {'科幻片': 'v', '爱情片': '*', '动画片': 'o'}"
   ]
  },
  {
   "cell_type": "code",
   "execution_count": null,
   "metadata": {},
   "outputs": [],
   "source": [
    "import matplotlib.pyplot as plt\n",
    "\n",
    "# 设置绘图时的中文字体\n",
    "plt.rcParams['font.sans-serif'] = ['SimHei']\n",
    "plt.rcParams['axes.unicode_minus'] = False\n",
    "\n",
    "# 【练习3】\n",
    "# 在子图中分别绘制两个影院的数据\n",
    "\n",
    "# 请尽量回忆课程内容来完成哦"
   ]
  },
  {
   "cell_type": "code",
   "execution_count": null,
   "metadata": {},
   "outputs": [],
   "source": [
    "# 请在 ____ 处完成代码\n",
    "\n",
    "# 把两个数据集放在一个列表中\n",
    "data_dict_list = [data_dict_1, data_dict_2]\n",
    "\n",
    "# 设置子图标题的字符串\n",
    "title_list = ['东方电影院', '和平电影院']\n",
    "\n",
    "# ---------------------------------------------\n",
    "\n",
    "# 创建画板，设置画板大小为 (12, 4.5)\n",
    "fig = plt.figure(____)\n",
    "\n",
    "# 在画板上添加左右两张画纸，并把它们加入列表 axes\n",
    "axes = []\n",
    "axes.append(____)\n",
    "axes.append(____)\n",
    "\n",
    "# 用 for 循环，在两张画纸上分别绘制多组散点图\n",
    "for i in range(2):\n",
    "    for category, feature in ____.items(): # 获取对应的数据字典\n",
    "        axes[i].scatter(____,               # 获取'平均票价'列表作为 x 轴坐标 \n",
    "                        ____,               # 获取'平均上座'列表作为 y 轴坐标\n",
    "                        marker=____,        # 从准备好的 marker_dict 设置数据形状\n",
    "                        label=____          # 设置数据标签\n",
    "                       )\n",
    "\n",
    "    # 设置子图标题\n",
    "    axes[i].set_title(____, fontsize=16)\n",
    "    \n",
    "    # 设置坐标轴标签、网格、图例\n",
    "    axes[i].set_xlabel('平均票价（元）')\n",
    "    axes[i].set_ylabel('平均上座（人）')\n",
    "    axes[i].grid(axis='both')\n",
    "    axes[i].legend()\n",
    "\n",
    "# ---------------------------------------------\n",
    "    \n",
    "# 添加总标题\n",
    "fig.suptitle('两影院三类影片平均票价与平均上座分布', fontsize=20, y=1.05)\n",
    "\n",
    "# 展示绘图结果\n",
    "plt.tight_layout()\n",
    "plt.show()"
   ]
  },
  {
   "cell_type": "code",
   "execution_count": null,
   "metadata": {},
   "outputs": [],
   "source": [
    "print('#plt#')"
   ]
  }
 ],
 "metadata": {
  "kernelspec": {
   "display_name": "Python 3",
   "language": "python",
   "name": "python3"
  },
  "language_info": {
   "codemirror_mode": {
    "name": "ipython",
    "version": 3
   },
   "file_extension": ".py",
   "mimetype": "text/x-python",
   "name": "python",
   "nbconvert_exporter": "python",
   "pygments_lexer": "ipython3",
   "version": "3.8.3"
  }
 },
 "nbformat": 4,
 "nbformat_minor": 2
}
